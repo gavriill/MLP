{
 "cells": [
  {
   "cell_type": "markdown",
   "metadata": {},
   "source": [
    "## Постройте модель для классификации FashionMNIST. Попробуйте получить качество на тестовой выборке не ниже 88%"
   ]
  },
  {
   "cell_type": "code",
   "execution_count": 1,
   "metadata": {},
   "outputs": [],
   "source": [
    "import matplotlib.pyplot as plt\n",
    "import torch\n",
    "import numpy as np\n",
    "import torchvision as tv\n",
    "import time\n",
    "%matplotlib inline"
   ]
  },
  {
   "cell_type": "code",
   "execution_count": 30,
   "metadata": {},
   "outputs": [
    {
     "name": "stdout",
     "output_type": "stream",
     "text": [
      " 1\t\t\t  lect2\t\t      smsspamcollection.zip\r\n",
      " b_s.png\t\t  lesson1_try.ipynb   Untitled1.ipynb\r\n",
      " data.csv\t\t  MLP.ipynb\t      Untitled2.ipynb\r\n",
      "'download (3)'\t\t  MNIST\t\t      Untitled.ipynb\r\n",
      " fashion\t\t  naive_bayes.ipynb  'Лекция 1.ipynb'\r\n",
      " gru\t\t\t  readme\t     'Лекция 2 (1).ipynb'\r\n",
      " HW_2_BOSTON_LINEAR_REG   SMSSpamCollection  'Лекция 6.ipynb'\r\n"
     ]
    }
   ],
   "source": [
    "!ls"
   ]
  },
  {
   "cell_type": "code",
   "execution_count": 2,
   "metadata": {},
   "outputs": [],
   "source": [
    "train_dataset = tv.datasets.FashionMNIST('./fashion', train=True, transform=tv.transforms.ToTensor(), download=True)\n",
    "test_dataset = tv.datasets.FashionMNIST('./fashion', train=False, transform=tv.transforms.ToTensor(), download=True)\n"
   ]
  },
  {
   "cell_type": "code",
   "execution_count": 3,
   "metadata": {},
   "outputs": [],
   "source": [
    "BATCH_SIZE = 512\n",
    "train = torch.utils.data.DataLoader(train_dataset, batch_size=BATCH_SIZE, shuffle=True)\n",
    "test = torch.utils.data.DataLoader(test_dataset, batch_size=BATCH_SIZE, shuffle=True)"
   ]
  },
  {
   "cell_type": "code",
   "execution_count": 4,
   "metadata": {},
   "outputs": [
    {
     "data": {
      "text/plain": [
       "torch.Size([10])"
      ]
     },
     "execution_count": 4,
     "metadata": {},
     "output_type": "execute_result"
    }
   ],
   "source": [
    "train_dataset.targets.unique().shape"
   ]
  },
  {
   "cell_type": "code",
   "execution_count": 5,
   "metadata": {},
   "outputs": [],
   "source": [
    "\n",
    "def train_model(model, num_epochs, train, test, trainer, dev):\n",
    "    model.to(dev)\n",
    "    loss = torch.nn.CrossEntropyLoss(reduction='sum')\n",
    "    train_losses,test_losses, train_accuracy, test_accuracy=[],[],[],[]\n",
    "    for ep in range(num_epochs):\n",
    "        train_iters, train_passed  = 0, 0\n",
    "        train_loss, train_acc = 0., 0.\n",
    "        start=time.time()\n",
    "        model.train()\n",
    "        for X, y in train:\n",
    "            X, y = X.to(dev), y.to(dev)\n",
    "            trainer.zero_grad()\n",
    "            y_pred = model(X)\n",
    "            l = loss(y_pred, y)\n",
    "            l.backward()\n",
    "            trainer.step()\n",
    "            train_loss += l.item()\n",
    "            train_acc += (y_pred.argmax(dim=1) == y).sum().item()\n",
    "            train_iters += 1\n",
    "            train_passed += len(X)\n",
    "\n",
    "        test_iters, test_passed  = 0, 0\n",
    "        test_loss, test_acc = 0., 0.\n",
    "        model.eval()\n",
    "        for X, y in test:\n",
    "            X, y = X.to(dev), y.to(dev)\n",
    "            y_pred = model(X)\n",
    "            l = loss(y_pred, y)\n",
    "            test_loss += l.item()\n",
    "            test_acc += (y_pred.argmax(dim=1) == y).sum().item()\n",
    "            test_iters += 1\n",
    "            test_passed += len(X)\n",
    "\n",
    "        print(\"ep: {},taked: {:.3f}, train_loss: {}, train_acc: {}, test_loss: {}, test_acc: {}\".format(\n",
    "            ep,time.time()-start, train_loss / train_iters, train_acc / train_passed,\n",
    "            test_loss / test_iters, test_acc / test_passed)\n",
    "        )\n",
    "        train_losses.append(train_loss / train_iters)\n",
    "        test_losses.append(test_loss / test_iters)\n",
    "        train_accuracy.append(train_acc / train_passed)\n",
    "        test_accuracy.append(test_acc / test_passed)\n",
    "        \n",
    "    return train_losses,test_losses, train_accuracy, test_accuracy"
   ]
  },
  {
   "cell_type": "code",
   "execution_count": 6,
   "metadata": {},
   "outputs": [],
   "source": [
    "dev = torch.device(\"cuda\") if torch.cuda.is_available() else torch.device(\"cpu\")"
   ]
  },
  {
   "cell_type": "markdown",
   "metadata": {},
   "source": [
    "### Возьмем простешую полносвязную сеть из лекции "
   ]
  },
  {
   "cell_type": "code",
   "execution_count": 7,
   "metadata": {},
   "outputs": [],
   "source": [
    "model = torch.nn.Sequential(\n",
    "    torch.nn.Flatten(),\n",
    "    torch.nn.Linear(784, 256),\n",
    "    torch.nn.ReLU(),\n",
    "    torch.nn.Linear(256, 10)\n",
    ")"
   ]
  },
  {
   "cell_type": "code",
   "execution_count": 8,
   "metadata": {},
   "outputs": [
    {
     "name": "stdout",
     "output_type": "stream",
     "text": [
      "ep: 0,taked: 5.123, train_loss: 452.68113973585224, train_acc: 0.6705, test_loss: 318.4785675048828, test_acc: 0.7522\n",
      "ep: 1,taked: 5.084, train_loss: 279.1077433440645, train_acc: 0.7967166666666666, test_loss: 246.73880615234376, test_acc: 0.8217\n",
      "ep: 2,taked: 5.116, train_loss: 242.53215810808084, train_acc: 0.8245666666666667, test_loss: 220.94643020629883, test_acc: 0.8396\n",
      "ep: 3,taked: 5.023, train_loss: 218.70722360126044, train_acc: 0.8418, test_loss: 220.72138328552245, test_acc: 0.834\n",
      "ep: 4,taked: 5.076, train_loss: 204.38689729722878, train_acc: 0.8520166666666666, test_loss: 222.10651168823242, test_acc: 0.8413\n",
      "ep: 5,taked: 5.043, train_loss: 197.86488109523967, train_acc: 0.8568333333333333, test_loss: 196.0139301300049, test_acc: 0.8583\n",
      "ep: 6,taked: 5.166, train_loss: 188.4599522089554, train_acc: 0.8634166666666667, test_loss: 200.05708198547364, test_acc: 0.8474\n",
      "ep: 7,taked: 5.210, train_loss: 180.16916598303843, train_acc: 0.8698833333333333, test_loss: 201.18807220458984, test_acc: 0.8527\n",
      "ep: 8,taked: 5.132, train_loss: 174.8521235191216, train_acc: 0.8731666666666666, test_loss: 186.27739562988282, test_acc: 0.8656\n",
      "ep: 9,taked: 5.140, train_loss: 168.51978075706353, train_acc: 0.87695, test_loss: 184.15691375732422, test_acc: 0.8685\n",
      "ep: 10,taked: 5.129, train_loss: 167.79537191229352, train_acc: 0.8785166666666666, test_loss: 185.7494094848633, test_acc: 0.8683\n",
      "ep: 11,taked: 5.045, train_loss: 161.07017584978524, train_acc: 0.88255, test_loss: 183.21708564758302, test_acc: 0.867\n",
      "ep: 12,taked: 5.092, train_loss: 159.70113553839215, train_acc: 0.8848666666666667, test_loss: 179.69043045043946, test_acc: 0.8724\n",
      "ep: 13,taked: 5.065, train_loss: 154.26858276431844, train_acc: 0.8883, test_loss: 174.51133880615234, test_acc: 0.872\n",
      "ep: 14,taked: 5.082, train_loss: 152.24916205971928, train_acc: 0.8899833333333333, test_loss: 175.72333526611328, test_acc: 0.8721\n",
      "ep: 15,taked: 5.060, train_loss: 149.6918495469174, train_acc: 0.8911333333333333, test_loss: 170.19476928710938, test_acc: 0.8775\n",
      "ep: 16,taked: 5.131, train_loss: 144.6883712703899, train_acc: 0.8939666666666667, test_loss: 176.67919387817383, test_acc: 0.8723\n",
      "ep: 17,taked: 5.064, train_loss: 142.54601788924913, train_acc: 0.8973833333333333, test_loss: 167.71941795349122, test_acc: 0.8786\n",
      "ep: 18,taked: 5.151, train_loss: 142.3859502501407, train_acc: 0.8964166666666666, test_loss: 165.4398448944092, test_acc: 0.8796\n",
      "ep: 19,taked: 5.298, train_loss: 137.85656119201144, train_acc: 0.8993833333333333, test_loss: 167.2309841156006, test_acc: 0.8797\n",
      "ep: 20,taked: 5.224, train_loss: 138.65041836237504, train_acc: 0.8989333333333334, test_loss: 165.51712303161622, test_acc: 0.8804\n",
      "ep: 21,taked: 5.080, train_loss: 135.38241803444038, train_acc: 0.9014, test_loss: 163.4035274505615, test_acc: 0.8805\n",
      "ep: 22,taked: 5.062, train_loss: 132.052500417677, train_acc: 0.9035333333333333, test_loss: 161.9802532196045, test_acc: 0.8847\n",
      "ep: 23,taked: 5.048, train_loss: 131.32446104793226, train_acc: 0.9045333333333333, test_loss: 160.96677169799804, test_acc: 0.8839\n",
      "ep: 24,taked: 5.044, train_loss: 126.4949163824825, train_acc: 0.9071166666666667, test_loss: 162.88073654174804, test_acc: 0.8837\n",
      "ep: 25,taked: 5.018, train_loss: 127.58228154909813, train_acc: 0.90615, test_loss: 163.1402416229248, test_acc: 0.8826\n",
      "ep: 26,taked: 5.390, train_loss: 126.79057253821422, train_acc: 0.9078333333333334, test_loss: 159.318989944458, test_acc: 0.8848\n",
      "ep: 27,taked: 5.252, train_loss: 124.9109456498744, train_acc: 0.9088833333333334, test_loss: 163.04599418640137, test_acc: 0.8803\n",
      "ep: 28,taked: 5.186, train_loss: 121.92562248747228, train_acc: 0.9107333333333333, test_loss: 168.1517192840576, test_acc: 0.8818\n",
      "ep: 29,taked: 5.163, train_loss: 121.89764302463855, train_acc: 0.9110833333333334, test_loss: 162.12616157531738, test_acc: 0.8861\n"
     ]
    }
   ],
   "source": [
    "num_epochs=30\n",
    "loss = torch.nn.CrossEntropyLoss(reduction='sum')\n",
    "trainer = torch.optim.SGD(model.parameters(), lr=0.001)\n",
    "history=train_model(model, num_epochs, train, test, trainer, dev)"
   ]
  },
  {
   "cell_type": "code",
   "execution_count": 9,
   "metadata": {},
   "outputs": [],
   "source": [
    "loss,val_loss,acc,val_acc=history"
   ]
  },
  {
   "cell_type": "code",
   "execution_count": 10,
   "metadata": {},
   "outputs": [
    {
     "data": {
      "image/png": "[encoded data removed]",
      "text/plain": [
       "<Figure size 1080x648 with 1 Axes>"
      ]
     },
     "metadata": {
      "needs_background": "light"
     },
     "output_type": "display_data"
    },
    {
     "data": {
      "image/png": "[encoded data removed]",
      "text/plain": [
       "<Figure size 1080x648 with 1 Axes>"
      ]
     },
     "metadata": {
      "needs_background": "light"
     },
     "output_type": "display_data"
    }
   ],
   "source": [
    "plt.figure(figsize=(15, 9))\n",
    "plt.plot(loss, label=\"train_loss\")\n",
    "plt.plot(val_loss, label=\"val_loss\")\n",
    "plt.legend(loc='best')\n",
    "plt.xlabel(\"epochs\")\n",
    "plt.ylabel(\"loss\")\n",
    "\n",
    "plt.figure(figsize=(15, 9))\n",
    "plt.plot(acc, label=\"train_acc\")\n",
    "plt.plot(val_acc, label=\"val_acc\")\n",
    "plt.legend(loc='best')\n",
    "plt.xlabel(\"epochs\")\n",
    "plt.ylabel(\"loss\")\n",
    "plt.show()"
   ]
  },
  {
   "cell_type": "code",
   "execution_count": 21,
   "metadata": {
    "scrolled": false
   },
   "outputs": [
    {
     "name": "stdout",
     "output_type": "stream",
     "text": [
      "ep: 0,taked: 5.237, train_loss: 104.97720336914062, train_acc: 0.9249666666666667, test_loss: 153.6077018737793, test_acc: 0.8905\n",
      "ep: 1,taked: 5.267, train_loss: 103.50318208791442, train_acc: 0.9264, test_loss: 152.9999237060547, test_acc: 0.8905\n",
      "ep: 2,taked: 5.122, train_loss: 102.96419507366116, train_acc: 0.9268666666666666, test_loss: 152.79027709960937, test_acc: 0.8914\n",
      "ep: 3,taked: 5.135, train_loss: 102.6470392114025, train_acc: 0.9270166666666667, test_loss: 153.01209869384766, test_acc: 0.8915\n",
      "ep: 4,taked: 5.115, train_loss: 102.34241598743503, train_acc: 0.927, test_loss: 152.6385009765625, test_acc: 0.8912\n",
      "ep: 5,taked: 5.115, train_loss: 101.95325974286612, train_acc: 0.9277666666666666, test_loss: 152.43698539733887, test_acc: 0.8918\n",
      "ep: 6,taked: 5.115, train_loss: 101.6601484912937, train_acc: 0.9283, test_loss: 152.64660263061523, test_acc: 0.8924\n",
      "ep: 7,taked: 5.106, train_loss: 101.38414616503958, train_acc: 0.92805, test_loss: 152.50415840148926, test_acc: 0.8915\n",
      "ep: 8,taked: 5.122, train_loss: 101.09547624749652, train_acc: 0.92875, test_loss: 152.53353157043458, test_acc: 0.8924\n",
      "ep: 9,taked: 5.181, train_loss: 100.81582599575236, train_acc: 0.9283166666666667, test_loss: 152.03756713867188, test_acc: 0.8929\n",
      "ep: 10,taked: 5.108, train_loss: 100.57203444788011, train_acc: 0.9285, test_loss: 152.25317192077637, test_acc: 0.8919\n",
      "ep: 11,taked: 5.167, train_loss: 100.16941945027497, train_acc: 0.9292, test_loss: 152.01196212768554, test_acc: 0.8931\n",
      "ep: 12,taked: 5.116, train_loss: 100.0344045121791, train_acc: 0.9290833333333334, test_loss: 152.14445915222169, test_acc: 0.8919\n",
      "ep: 13,taked: 5.124, train_loss: 99.72177261417195, train_acc: 0.92905, test_loss: 151.85831184387206, test_acc: 0.8923\n",
      "ep: 14,taked: 5.090, train_loss: 99.51762118581998, train_acc: 0.9294166666666667, test_loss: 151.87873611450195, test_acc: 0.8935\n",
      "ep: 15,taked: 5.233, train_loss: 99.22193459332999, train_acc: 0.9299, test_loss: 151.97395877838136, test_acc: 0.8927\n",
      "ep: 16,taked: 5.109, train_loss: 98.97227798073979, train_acc: 0.93015, test_loss: 151.42910919189453, test_acc: 0.8932\n",
      "ep: 17,taked: 5.127, train_loss: 98.76118638959981, train_acc: 0.9301166666666667, test_loss: 151.74678268432618, test_acc: 0.8924\n",
      "ep: 18,taked: 5.190, train_loss: 98.51902952032574, train_acc: 0.93095, test_loss: 151.50106315612794, test_acc: 0.8944\n",
      "ep: 19,taked: 5.228, train_loss: 98.22069030697062, train_acc: 0.9305, test_loss: 151.1621223449707, test_acc: 0.8936\n",
      "ep: 20,taked: 5.144, train_loss: 98.06548234971903, train_acc: 0.931, test_loss: 151.25601654052736, test_acc: 0.8933\n",
      "ep: 21,taked: 5.196, train_loss: 97.80644009477001, train_acc: 0.9310833333333334, test_loss: 151.71095085144043, test_acc: 0.8929\n",
      "ep: 22,taked: 5.074, train_loss: 97.62922112416413, train_acc: 0.93135, test_loss: 151.0524108886719, test_acc: 0.8938\n",
      "ep: 23,taked: 5.142, train_loss: 97.34797569856805, train_acc: 0.9312166666666667, test_loss: 150.9123680114746, test_acc: 0.8936\n",
      "ep: 24,taked: 5.190, train_loss: 97.01342338626668, train_acc: 0.9322666666666667, test_loss: 151.7116268157959, test_acc: 0.8924\n",
      "ep: 25,taked: 5.060, train_loss: 96.82276128510297, train_acc: 0.9316166666666666, test_loss: 151.3316379547119, test_acc: 0.8927\n",
      "ep: 26,taked: 5.115, train_loss: 96.62873717485849, train_acc: 0.9323833333333333, test_loss: 151.37681274414064, test_acc: 0.8933\n",
      "ep: 27,taked: 5.097, train_loss: 96.4035155086194, train_acc: 0.93275, test_loss: 151.32227687835694, test_acc: 0.8937\n",
      "ep: 28,taked: 5.132, train_loss: 96.17878666570631, train_acc: 0.9329333333333333, test_loss: 151.3417541503906, test_acc: 0.8927\n",
      "ep: 29,taked: 5.146, train_loss: 95.88227345579762, train_acc: 0.9326166666666666, test_loss: 151.38339080810547, test_acc: 0.8939\n"
     ]
    }
   ],
   "source": [
    "# Уменьшим LR :\n",
    "num_epochs=30\n",
    "loss = torch.nn.CrossEntropyLoss(reduction='sum')\n",
    "trainer = torch.optim.SGD(model.parameters(), lr=0.0001)\n",
    "history=train_model(model, num_epochs, train, test, trainer, dev)"
   ]
  },
  {
   "cell_type": "code",
   "execution_count": null,
   "metadata": {},
   "outputs": [],
   "source": [
    "* где- то в .89 застряли"
   ]
  },
  {
   "cell_type": "markdown",
   "metadata": {},
   "source": [
    "### Попробуем добавить BatchNorm и Dropout"
   ]
  },
  {
   "cell_type": "code",
   "execution_count": 11,
   "metadata": {},
   "outputs": [],
   "source": [
    "model2 = torch.nn.Sequential(\n",
    "    torch.nn.Flatten(),\n",
    "    torch.nn.BatchNorm1d(784),\n",
    "    \n",
    "    \n",
    "    torch.nn.Linear(784, 256),\n",
    "    torch.nn.ReLU(),\n",
    "    torch.nn.Dropout(0.3),\n",
    "    \n",
    "    torch.nn.Linear(256, 10)\n",
    "    \n",
    ")\n"
   ]
  },
  {
   "cell_type": "code",
   "execution_count": 14,
   "metadata": {},
   "outputs": [
    {
     "name": "stdout",
     "output_type": "stream",
     "text": [
      "ep: 0,taked: 5.157, train_loss: 400.86261532670363, train_acc: 0.7545666666666667, test_loss: 224.98741035461427, test_acc: 0.8369\n",
      "ep: 1,taked: 5.128, train_loss: 210.23229324211508, train_acc: 0.8488333333333333, test_loss: 199.90476455688477, test_acc: 0.8566\n",
      "ep: 2,taked: 5.059, train_loss: 189.42351596638306, train_acc: 0.8636666666666667, test_loss: 185.87877960205077, test_acc: 0.8637\n",
      "ep: 3,taked: 5.116, train_loss: 173.1108903723248, train_acc: 0.8751333333333333, test_loss: 181.37615242004395, test_acc: 0.8698\n",
      "ep: 4,taked: 5.113, train_loss: 164.1331741850255, train_acc: 0.8809166666666667, test_loss: 176.00701675415038, test_acc: 0.8727\n",
      "ep: 5,taked: 5.164, train_loss: 156.02754366599908, train_acc: 0.8869, test_loss: 174.9919506072998, test_acc: 0.8754\n",
      "ep: 6,taked: 5.132, train_loss: 149.32310084973352, train_acc: 0.8916333333333334, test_loss: 166.6353504180908, test_acc: 0.8787\n",
      "ep: 7,taked: 5.061, train_loss: 141.8121913974568, train_acc: 0.8975333333333333, test_loss: 171.9650909423828, test_acc: 0.8769\n",
      "ep: 8,taked: 5.145, train_loss: 135.4961620589434, train_acc: 0.9020666666666667, test_loss: 164.25701904296875, test_acc: 0.8828\n",
      "ep: 9,taked: 5.158, train_loss: 132.17586308818753, train_acc: 0.9033666666666667, test_loss: 170.79684104919434, test_acc: 0.8818\n",
      "ep: 10,taked: 5.170, train_loss: 126.27837800171416, train_acc: 0.90885, test_loss: 165.4268585205078, test_acc: 0.8871\n",
      "ep: 11,taked: 5.124, train_loss: 124.29644730131506, train_acc: 0.9086333333333333, test_loss: 169.756746673584, test_acc: 0.8844\n",
      "ep: 12,taked: 5.144, train_loss: 119.81768724473856, train_acc: 0.9124833333333333, test_loss: 162.74998321533204, test_acc: 0.8891\n",
      "ep: 13,taked: 5.133, train_loss: 116.6676950939631, train_acc: 0.9149666666666667, test_loss: 163.35428047180176, test_acc: 0.8858\n",
      "ep: 14,taked: 5.153, train_loss: 112.6853166677184, train_acc: 0.9184166666666667, test_loss: 163.21307868957518, test_acc: 0.8885\n",
      "ep: 15,taked: 5.110, train_loss: 110.68821507793362, train_acc: 0.91935, test_loss: 166.1001941680908, test_acc: 0.888\n",
      "ep: 16,taked: 5.178, train_loss: 106.46818634615106, train_acc: 0.9223, test_loss: 160.37389373779297, test_acc: 0.8927\n",
      "ep: 17,taked: 5.099, train_loss: 103.61224970575107, train_acc: 0.9235333333333333, test_loss: 162.22295570373535, test_acc: 0.8917\n",
      "ep: 18,taked: 5.081, train_loss: 102.34126508033881, train_acc: 0.9256666666666666, test_loss: 159.28738899230956, test_acc: 0.8957\n",
      "ep: 19,taked: 5.155, train_loss: 100.0656383158797, train_acc: 0.92805, test_loss: 161.79873237609863, test_acc: 0.8888\n",
      "ep: 20,taked: 5.226, train_loss: 95.5456159559347, train_acc: 0.9301833333333334, test_loss: 165.24446868896484, test_acc: 0.8935\n",
      "ep: 21,taked: 5.151, train_loss: 94.57998382439048, train_acc: 0.9307, test_loss: 164.8787109375, test_acc: 0.8929\n",
      "ep: 22,taked: 5.125, train_loss: 91.26322716373508, train_acc: 0.9336, test_loss: 164.50099830627443, test_acc: 0.8928\n",
      "ep: 23,taked: 5.116, train_loss: 88.52583165087943, train_acc: 0.9358666666666666, test_loss: 164.2380771636963, test_acc: 0.897\n",
      "ep: 24,taked: 5.148, train_loss: 86.15438374826464, train_acc: 0.9378833333333333, test_loss: 166.32207412719725, test_acc: 0.8951\n",
      "ep: 25,taked: 5.092, train_loss: 86.51574816946255, train_acc: 0.9365333333333333, test_loss: 167.7120174407959, test_acc: 0.8924\n",
      "ep: 26,taked: 5.141, train_loss: 83.40400162389723, train_acc: 0.9383833333333333, test_loss: 168.67693023681642, test_acc: 0.8937\n",
      "ep: 27,taked: 5.179, train_loss: 80.27576642117258, train_acc: 0.9416, test_loss: 167.16083488464355, test_acc: 0.8961\n",
      "ep: 28,taked: 5.165, train_loss: 79.00455424745203, train_acc: 0.9424, test_loss: 175.91636924743653, test_acc: 0.8947\n",
      "ep: 29,taked: 5.252, train_loss: 79.09380744675458, train_acc: 0.9415166666666667, test_loss: 169.23906936645508, test_acc: 0.8979\n"
     ]
    }
   ],
   "source": [
    "num_epochs=30\n",
    "trainer = torch.optim.SGD(model2.parameters(), lr=0.001)\n",
    "history2=train_model(model2, num_epochs, train, test, trainer, dev)"
   ]
  },
  {
   "cell_type": "code",
   "execution_count": 15,
   "metadata": {},
   "outputs": [
    {
     "name": "stdout",
     "output_type": "stream",
     "text": [
      "ep: 0,taked: 5.205, train_loss: 65.28524188672083, train_acc: 0.9551666666666667, test_loss: 162.21652851104736, test_acc: 0.9001\n",
      "ep: 1,taked: 5.166, train_loss: 60.40559647446972, train_acc: 0.9583, test_loss: 162.65482444763182, test_acc: 0.8991\n",
      "ep: 2,taked: 5.231, train_loss: 59.38693142745454, train_acc: 0.95975, test_loss: 163.37587814331056, test_acc: 0.9003\n",
      "ep: 3,taked: 5.190, train_loss: 58.232165979126755, train_acc: 0.9606333333333333, test_loss: 163.9837490081787, test_acc: 0.9007\n",
      "ep: 4,taked: 5.216, train_loss: 58.15959956282276, train_acc: 0.9594333333333334, test_loss: 163.09205780029296, test_acc: 0.9001\n",
      "ep: 5,taked: 5.187, train_loss: 57.29574612439689, train_acc: 0.96085, test_loss: 161.39682121276854, test_acc: 0.901\n",
      "ep: 6,taked: 5.172, train_loss: 56.84278022636801, train_acc: 0.9618833333333333, test_loss: 162.65731086730958, test_acc: 0.9018\n",
      "ep: 7,taked: 5.182, train_loss: 56.4707734221119, train_acc: 0.961, test_loss: 162.1040096282959, test_acc: 0.9022\n",
      "ep: 8,taked: 5.138, train_loss: 55.987984204696396, train_acc: 0.9618166666666667, test_loss: 163.7453987121582, test_acc: 0.9016\n",
      "ep: 9,taked: 5.146, train_loss: 55.29556775497178, train_acc: 0.96245, test_loss: 162.4287311553955, test_acc: 0.901\n",
      "ep: 10,taked: 5.097, train_loss: 54.550978854551154, train_acc: 0.9633833333333334, test_loss: 163.8557331085205, test_acc: 0.9012\n",
      "ep: 11,taked: 5.155, train_loss: 54.75065771199889, train_acc: 0.9625833333333333, test_loss: 164.44267501831055, test_acc: 0.8998\n",
      "ep: 12,taked: 5.126, train_loss: 54.923403731847216, train_acc: 0.9629166666666666, test_loss: 164.32703895568847, test_acc: 0.9016\n",
      "ep: 13,taked: 5.190, train_loss: 54.81218591787047, train_acc: 0.9626666666666667, test_loss: 164.216947555542, test_acc: 0.9021\n",
      "ep: 14,taked: 5.116, train_loss: 54.33573928121793, train_acc: 0.9628666666666666, test_loss: 164.15314903259278, test_acc: 0.9017\n",
      "ep: 15,taked: 5.194, train_loss: 53.95662843574912, train_acc: 0.9632833333333334, test_loss: 165.22342224121093, test_acc: 0.901\n",
      "ep: 16,taked: 5.126, train_loss: 54.02924102847859, train_acc: 0.963, test_loss: 164.15203857421875, test_acc: 0.9018\n",
      "ep: 17,taked: 5.182, train_loss: 53.798237364170916, train_acc: 0.9634166666666667, test_loss: 164.16371879577636, test_acc: 0.9032\n",
      "ep: 18,taked: 5.081, train_loss: 52.384038917088915, train_acc: 0.9650833333333333, test_loss: 165.1030345916748, test_acc: 0.9012\n",
      "ep: 19,taked: 5.225, train_loss: 52.71235385183561, train_acc: 0.96395, test_loss: 164.16552391052247, test_acc: 0.9009\n",
      "ep: 20,taked: 5.196, train_loss: 52.056616645748335, train_acc: 0.9646833333333333, test_loss: 164.9013584136963, test_acc: 0.9016\n",
      "ep: 21,taked: 5.210, train_loss: 52.57165160017499, train_acc: 0.9637666666666667, test_loss: 164.43161239624024, test_acc: 0.9018\n",
      "ep: 22,taked: 5.143, train_loss: 51.88696087012857, train_acc: 0.9646833333333333, test_loss: 165.31543083190917, test_acc: 0.9024\n",
      "ep: 23,taked: 5.128, train_loss: 52.05233473696951, train_acc: 0.9653, test_loss: 165.6859016418457, test_acc: 0.9013\n",
      "ep: 24,taked: 5.064, train_loss: 51.65769362045547, train_acc: 0.9649, test_loss: 168.88064270019532, test_acc: 0.9017\n",
      "ep: 25,taked: 5.108, train_loss: 51.353333982370664, train_acc: 0.9649, test_loss: 166.3634075164795, test_acc: 0.901\n",
      "ep: 26,taked: 5.114, train_loss: 51.30461191726943, train_acc: 0.9663166666666667, test_loss: 167.4953353881836, test_acc: 0.9021\n",
      "ep: 27,taked: 5.166, train_loss: 51.45823987863832, train_acc: 0.9646166666666667, test_loss: 166.4492301940918, test_acc: 0.9014\n",
      "ep: 28,taked: 5.067, train_loss: 50.90506627600072, train_acc: 0.9650666666666666, test_loss: 167.34762382507324, test_acc: 0.9009\n",
      "ep: 29,taked: 5.123, train_loss: 50.20500373840332, train_acc: 0.9655833333333333, test_loss: 168.9983932495117, test_acc: 0.9005\n"
     ]
    }
   ],
   "source": [
    "# Уменьшим LR :\n",
    "num_epochs=30\n",
    "trainer = torch.optim.SGD(model2.parameters(), lr=0.0001)\n",
    "history3=train_model(model2, num_epochs, train, test, trainer, dev)"
   ]
  },
  {
   "cell_type": "markdown",
   "metadata": {},
   "source": [
    "*  ок, добрались до 0.9 на тесте, "
   ]
  },
  {
   "cell_type": "markdown",
   "metadata": {},
   "source": [
    "### пробуем еще усложнить архитектуру"
   ]
  },
  {
   "cell_type": "code",
   "execution_count": 18,
   "metadata": {},
   "outputs": [],
   "source": [
    "model3 = torch.nn.Sequential(\n",
    "    torch.nn.Flatten(),\n",
    "    torch.nn.BatchNorm1d(784),\n",
    "    \n",
    "    torch.nn.Linear(784, 4096),\n",
    "    torch.nn.ReLU(),\n",
    "    torch.nn.BatchNorm1d(4096),\n",
    "    torch.nn.Dropout(0.3),\n",
    "    \n",
    "    torch.nn.Linear(4096, 2048),\n",
    "    torch.nn.ReLU(),\n",
    "    torch.nn.BatchNorm1d(2048),\n",
    "    torch.nn.Dropout(0.3),\n",
    "    \n",
    "    torch.nn.Linear(2048, 1024),\n",
    "    torch.nn.ReLU(),\n",
    "    torch.nn.BatchNorm1d(1024),\n",
    "    torch.nn.Dropout(0.3),\n",
    "    \n",
    "    torch.nn.Linear(1024, 512),\n",
    "    torch.nn.ReLU(),\n",
    "    torch.nn.BatchNorm1d(512),\n",
    "    torch.nn.Dropout(0.3),\n",
    "    \n",
    "    torch.nn.Linear(512, 10)\n",
    "    \n",
    ")\n"
   ]
  },
  {
   "cell_type": "code",
   "execution_count": 19,
   "metadata": {},
   "outputs": [
    {
     "name": "stdout",
     "output_type": "stream",
     "text": [
      "ep: 0,taked: 6.388, train_loss: 437.427648285688, train_acc: 0.7635333333333333, test_loss: 204.11029624938965, test_acc: 0.8534\n",
      "ep: 1,taked: 6.421, train_loss: 195.42986944166282, train_acc: 0.8605333333333334, test_loss: 206.27305603027344, test_acc: 0.8606\n",
      "ep: 2,taked: 6.382, train_loss: 170.80667288828704, train_acc: 0.8766666666666667, test_loss: 180.65098495483397, test_acc: 0.8666\n",
      "ep: 3,taked: 6.386, train_loss: 156.40088653564453, train_acc: 0.88475, test_loss: 170.02296829223633, test_acc: 0.8754\n",
      "ep: 4,taked: 6.342, train_loss: 142.4703339722197, train_acc: 0.8963, test_loss: 168.11428871154786, test_acc: 0.883\n",
      "ep: 5,taked: 6.691, train_loss: 134.65262713674772, train_acc: 0.9006833333333333, test_loss: 184.23102188110352, test_acc: 0.8641\n",
      "ep: 6,taked: 6.387, train_loss: 129.35788962800623, train_acc: 0.9039833333333334, test_loss: 162.3232093811035, test_acc: 0.8852\n",
      "ep: 7,taked: 6.379, train_loss: 119.87529329526222, train_acc: 0.9103666666666667, test_loss: 171.92511367797852, test_acc: 0.8767\n",
      "ep: 8,taked: 6.352, train_loss: 113.0436257184562, train_acc: 0.9159166666666667, test_loss: 160.56483116149903, test_acc: 0.8884\n",
      "ep: 9,taked: 6.443, train_loss: 107.66140441571252, train_acc: 0.91945, test_loss: 167.1561363220215, test_acc: 0.8884\n",
      "ep: 10,taked: 6.397, train_loss: 103.16740291401491, train_acc: 0.9232666666666667, test_loss: 180.78746528625487, test_acc: 0.876\n",
      "ep: 11,taked: 6.434, train_loss: 98.75471612962626, train_acc: 0.92605, test_loss: 163.11111373901366, test_acc: 0.8884\n",
      "ep: 12,taked: 6.423, train_loss: 94.14245204602258, train_acc: 0.9289333333333334, test_loss: 159.4584632873535, test_acc: 0.8927\n",
      "ep: 13,taked: 6.433, train_loss: 91.68389234704486, train_acc: 0.9322666666666667, test_loss: 205.0314147949219, test_acc: 0.8676\n",
      "ep: 14,taked: 6.401, train_loss: 86.98238009113376, train_acc: 0.93495, test_loss: 163.01209297180176, test_acc: 0.8961\n",
      "ep: 15,taked: 6.421, train_loss: 80.9762954711914, train_acc: 0.9391, test_loss: 168.76285514831542, test_acc: 0.8967\n",
      "ep: 16,taked: 6.379, train_loss: 82.41914881690074, train_acc: 0.9387, test_loss: 161.41289443969725, test_acc: 0.8986\n",
      "ep: 17,taked: 6.329, train_loss: 74.74645682512704, train_acc: 0.9440333333333333, test_loss: 170.29517211914063, test_acc: 0.8951\n",
      "ep: 18,taked: 6.280, train_loss: 70.7898126497107, train_acc: 0.9472, test_loss: 170.4362361907959, test_acc: 0.8962\n",
      "ep: 19,taked: 6.367, train_loss: 67.387001975108, train_acc: 0.9498166666666666, test_loss: 171.8967170715332, test_acc: 0.8984\n",
      "ep: 20,taked: 6.387, train_loss: 65.52136246632722, train_acc: 0.9507833333333333, test_loss: 169.9673252105713, test_acc: 0.8986\n",
      "ep: 21,taked: 6.461, train_loss: 61.30905492426985, train_acc: 0.9537833333333333, test_loss: 184.6401039123535, test_acc: 0.8976\n",
      "ep: 22,taked: 6.346, train_loss: 57.87658840114788, train_acc: 0.9556, test_loss: 190.8093048095703, test_acc: 0.8932\n",
      "ep: 23,taked: 6.415, train_loss: 57.10394213563305, train_acc: 0.9574333333333334, test_loss: 186.40825080871582, test_acc: 0.8936\n",
      "ep: 24,taked: 6.298, train_loss: 56.69458565469515, train_acc: 0.9577333333333333, test_loss: 198.41297340393066, test_acc: 0.8942\n",
      "ep: 25,taked: 6.472, train_loss: 51.500295105627025, train_acc: 0.9617833333333333, test_loss: 190.42994232177733, test_acc: 0.8921\n",
      "ep: 26,taked: 6.298, train_loss: 50.409713696625275, train_acc: 0.96185, test_loss: 190.9685371398926, test_acc: 0.8951\n",
      "ep: 27,taked: 6.400, train_loss: 49.306404412803005, train_acc: 0.9632666666666667, test_loss: 188.30755310058595, test_acc: 0.9003\n",
      "ep: 28,taked: 6.371, train_loss: 47.23172313884153, train_acc: 0.9648, test_loss: 215.65841331481934, test_acc: 0.8963\n",
      "ep: 29,taked: 6.390, train_loss: 45.214809401560636, train_acc: 0.9664666666666667, test_loss: 195.62970390319825, test_acc: 0.8998\n"
     ]
    }
   ],
   "source": [
    "num_epochs=30\n",
    "trainer = torch.optim.SGD(model3.parameters(), lr=0.001)\n",
    "history2=train_model(model3,num_epochs, train, test, trainer, dev)"
   ]
  },
  {
   "cell_type": "code",
   "execution_count": 20,
   "metadata": {},
   "outputs": [
    {
     "name": "stdout",
     "output_type": "stream",
     "text": [
      "ep: 0,taked: 6.373, train_loss: 26.891101926060045, train_acc: 0.98115, test_loss: 194.8467716217041, test_acc: 0.9069\n",
      "ep: 1,taked: 6.419, train_loss: 22.981239840135736, train_acc: 0.98335, test_loss: 200.5569278717041, test_acc: 0.9078\n",
      "ep: 2,taked: 6.359, train_loss: 20.82795004521386, train_acc: 0.98505, test_loss: 206.92048568725585, test_acc: 0.907\n",
      "ep: 3,taked: 6.354, train_loss: 19.51756162562613, train_acc: 0.9859333333333333, test_loss: 212.5047706604004, test_acc: 0.9061\n",
      "ep: 4,taked: 6.401, train_loss: 18.40924565670854, train_acc: 0.9864333333333334, test_loss: 215.36923599243164, test_acc: 0.9068\n",
      "ep: 5,taked: 6.358, train_loss: 17.83961112620467, train_acc: 0.9870333333333333, test_loss: 220.28927345275878, test_acc: 0.9065\n",
      "ep: 6,taked: 6.401, train_loss: 16.86082550630731, train_acc: 0.9877333333333334, test_loss: 221.506538772583, test_acc: 0.9075\n",
      "ep: 7,taked: 6.397, train_loss: 16.115044933254435, train_acc: 0.988, test_loss: 223.1236545562744, test_acc: 0.9076\n",
      "ep: 8,taked: 6.306, train_loss: 14.757679620031583, train_acc: 0.9891833333333333, test_loss: 229.92811965942383, test_acc: 0.9071\n",
      "ep: 9,taked: 6.329, train_loss: 14.11807440499128, train_acc: 0.98995, test_loss: 235.64453659057617, test_acc: 0.9067\n",
      "ep: 10,taked: 6.423, train_loss: 13.98413079067812, train_acc: 0.9898333333333333, test_loss: 235.8648307800293, test_acc: 0.9084\n",
      "ep: 11,taked: 6.342, train_loss: 13.56580748800504, train_acc: 0.99045, test_loss: 240.98103561401368, test_acc: 0.9057\n",
      "ep: 12,taked: 6.394, train_loss: 13.467147103810715, train_acc: 0.9901, test_loss: 243.75030899047852, test_acc: 0.9081\n",
      "ep: 13,taked: 6.389, train_loss: 12.652595431117689, train_acc: 0.9908166666666667, test_loss: 246.981844329834, test_acc: 0.9063\n",
      "ep: 14,taked: 6.431, train_loss: 12.283608933626596, train_acc: 0.9911833333333333, test_loss: 248.02194061279297, test_acc: 0.9074\n",
      "ep: 15,taked: 6.346, train_loss: 11.648254786507557, train_acc: 0.9913333333333333, test_loss: 249.4635467529297, test_acc: 0.9065\n",
      "ep: 16,taked: 6.423, train_loss: 10.821512735496134, train_acc: 0.9924666666666667, test_loss: 253.53467826843263, test_acc: 0.9078\n",
      "ep: 17,taked: 6.331, train_loss: 11.141982316970825, train_acc: 0.9918833333333333, test_loss: 256.45134658813475, test_acc: 0.9071\n",
      "ep: 18,taked: 6.385, train_loss: 10.5021042540922, train_acc: 0.9923, test_loss: 262.29115715026853, test_acc: 0.9065\n",
      "ep: 19,taked: 6.373, train_loss: 10.670365373967057, train_acc: 0.9918666666666667, test_loss: 261.1665351867676, test_acc: 0.9074\n",
      "ep: 20,taked: 6.415, train_loss: 9.923134213787014, train_acc: 0.9929, test_loss: 266.3214138031006, test_acc: 0.9062\n",
      "ep: 21,taked: 6.382, train_loss: 10.315116801504361, train_acc: 0.99245, test_loss: 263.98806686401366, test_acc: 0.9066\n",
      "ep: 22,taked: 6.426, train_loss: 9.659839714987804, train_acc: 0.99315, test_loss: 268.26923217773435, test_acc: 0.906\n",
      "ep: 23,taked: 6.389, train_loss: 9.566152370582193, train_acc: 0.9930833333333333, test_loss: 270.11166152954104, test_acc: 0.9072\n",
      "ep: 24,taked: 6.406, train_loss: 9.11709368430962, train_acc: 0.9931166666666666, test_loss: 266.3466232299805, test_acc: 0.9069\n",
      "ep: 25,taked: 6.397, train_loss: 8.645296141252679, train_acc: 0.9940666666666667, test_loss: 275.8382598876953, test_acc: 0.9072\n",
      "ep: 26,taked: 6.579, train_loss: 9.45415416410414, train_acc: 0.9928666666666667, test_loss: 272.1563316345215, test_acc: 0.9069\n",
      "ep: 27,taked: 6.575, train_loss: 8.561270305665873, train_acc: 0.9942333333333333, test_loss: 275.40331039428713, test_acc: 0.9057\n",
      "ep: 28,taked: 6.507, train_loss: 8.015246334722487, train_acc: 0.9941333333333333, test_loss: 278.9796417236328, test_acc: 0.9064\n",
      "ep: 29,taked: 6.297, train_loss: 8.480593200457298, train_acc: 0.99405, test_loss: 280.85861740112307, test_acc: 0.9063\n"
     ]
    }
   ],
   "source": [
    "num_epochs=30\n",
    "trainer = torch.optim.SGD(model3.parameters(), lr=0.0001)\n",
    "history2=train_model(model3,num_epochs, train, test, trainer, dev)"
   ]
  },
  {
   "cell_type": "markdown",
   "metadata": {},
   "source": [
    "* Пришли в какой-то минимум .906-.907 это почти сторлько же, сколько нам давала архиртетура с одним скрытым слоем\n",
    "* Заметим что в отличии от преддыдущих архитерктур , более сложная прктически полностью выучивает трейн\n"
   ]
  },
  {
   "cell_type": "markdown",
   "metadata": {},
   "source": [
    "### Поробуем другой оптимизатор"
   ]
  },
  {
   "cell_type": "code",
   "execution_count": 23,
   "metadata": {},
   "outputs": [],
   "source": [
    "model3 = torch.nn.Sequential(\n",
    "    torch.nn.Flatten(),\n",
    "    torch.nn.BatchNorm1d(784),\n",
    "    \n",
    "    torch.nn.Linear(784, 4096),\n",
    "    torch.nn.ReLU(),\n",
    "    torch.nn.BatchNorm1d(4096),\n",
    "    torch.nn.Dropout(0.3),\n",
    "    \n",
    "    torch.nn.Linear(4096, 2048),\n",
    "    torch.nn.ReLU(),\n",
    "    torch.nn.BatchNorm1d(2048),\n",
    "    torch.nn.Dropout(0.3),\n",
    "    \n",
    "    torch.nn.Linear(2048, 1024),\n",
    "    torch.nn.ReLU(),\n",
    "    torch.nn.BatchNorm1d(1024),\n",
    "    torch.nn.Dropout(0.3),\n",
    "    \n",
    "    torch.nn.Linear(1024, 512),\n",
    "    torch.nn.ReLU(),\n",
    "    torch.nn.BatchNorm1d(512),\n",
    "    torch.nn.Dropout(0.3),\n",
    "    \n",
    "    torch.nn.Linear(512, 10)\n",
    "    \n",
    ")\n"
   ]
  },
  {
   "cell_type": "code",
   "execution_count": 24,
   "metadata": {},
   "outputs": [
    {
     "name": "stdout",
     "output_type": "stream",
     "text": [
      "ep: 0,taked: 6.711, train_loss: 239.94797671043267, train_acc: 0.82865, test_loss: 200.82889213562012, test_acc: 0.8553\n",
      "ep: 1,taked: 6.687, train_loss: 177.0203085268958, train_acc: 0.8718, test_loss: 198.33208770751952, test_acc: 0.857\n",
      "ep: 2,taked: 6.683, train_loss: 158.94787500672422, train_acc: 0.8843666666666666, test_loss: 177.47551651000975, test_acc: 0.8703\n",
      "ep: 3,taked: 6.701, train_loss: 145.61867549055714, train_acc: 0.8930666666666667, test_loss: 169.9511013031006, test_acc: 0.8791\n",
      "ep: 4,taked: 6.771, train_loss: 139.20163106110135, train_acc: 0.8985833333333333, test_loss: 162.13217887878417, test_acc: 0.8838\n",
      "ep: 5,taked: 6.797, train_loss: 129.50895099316614, train_acc: 0.9039666666666667, test_loss: 161.06216278076172, test_acc: 0.8825\n",
      "ep: 6,taked: 6.730, train_loss: 121.95034301887124, train_acc: 0.9101833333333333, test_loss: 181.23487434387206, test_acc: 0.8709\n",
      "ep: 7,taked: 6.587, train_loss: 115.84638078333968, train_acc: 0.9144333333333333, test_loss: 159.68028450012207, test_acc: 0.8862\n",
      "ep: 8,taked: 6.686, train_loss: 111.34719418671172, train_acc: 0.9187166666666666, test_loss: 166.1589553833008, test_acc: 0.8827\n",
      "ep: 9,taked: 6.838, train_loss: 105.41072079286737, train_acc: 0.9231833333333334, test_loss: 166.00238151550292, test_acc: 0.8854\n",
      "ep: 10,taked: 6.815, train_loss: 99.77101794743942, train_acc: 0.9256666666666666, test_loss: 156.9497512817383, test_acc: 0.8918\n",
      "ep: 11,taked: 6.747, train_loss: 96.37395772287401, train_acc: 0.9283333333333333, test_loss: 166.7526714324951, test_acc: 0.8885\n",
      "ep: 12,taked: 6.725, train_loss: 94.4047929149563, train_acc: 0.9298666666666666, test_loss: 157.27224311828613, test_acc: 0.8954\n",
      "ep: 13,taked: 6.675, train_loss: 89.38505137168755, train_acc: 0.9342166666666667, test_loss: 156.39742851257324, test_acc: 0.8959\n",
      "ep: 14,taked: 6.684, train_loss: 86.35159657365185, train_acc: 0.9351166666666667, test_loss: 166.14219551086427, test_acc: 0.8907\n",
      "ep: 15,taked: 6.759, train_loss: 80.51499317460141, train_acc: 0.9402833333333334, test_loss: 165.9536247253418, test_acc: 0.8936\n",
      "ep: 16,taked: 6.837, train_loss: 79.73413490036786, train_acc: 0.94005, test_loss: 159.87806549072266, test_acc: 0.8933\n",
      "ep: 17,taked: 6.663, train_loss: 74.98387194488008, train_acc: 0.9436, test_loss: 176.3390853881836, test_acc: 0.8854\n",
      "ep: 18,taked: 6.813, train_loss: 76.5114082805181, train_acc: 0.943, test_loss: 173.5529270172119, test_acc: 0.8905\n",
      "ep: 19,taked: 6.748, train_loss: 71.48996524083412, train_acc: 0.94615, test_loss: 169.49660987854003, test_acc: 0.8935\n",
      "ep: 20,taked: 6.849, train_loss: 70.07916083578336, train_acc: 0.9484, test_loss: 186.8094997406006, test_acc: 0.8923\n",
      "ep: 21,taked: 6.941, train_loss: 66.01489463094937, train_acc: 0.9513, test_loss: 175.527734375, test_acc: 0.8942\n",
      "ep: 22,taked: 6.821, train_loss: 64.62505250057932, train_acc: 0.9523333333333334, test_loss: 184.55488052368165, test_acc: 0.8945\n",
      "ep: 23,taked: 6.729, train_loss: 62.78594505180747, train_acc: 0.9534666666666667, test_loss: 173.60199050903321, test_acc: 0.8987\n",
      "ep: 24,taked: 6.736, train_loss: 60.3223120155981, train_acc: 0.95375, test_loss: 175.32891311645508, test_acc: 0.8968\n",
      "ep: 25,taked: 6.691, train_loss: 57.57483193833949, train_acc: 0.9573166666666667, test_loss: 190.12710876464843, test_acc: 0.8937\n",
      "ep: 26,taked: 6.733, train_loss: 57.6032504146382, train_acc: 0.9576166666666667, test_loss: 194.180265045166, test_acc: 0.8934\n",
      "ep: 27,taked: 6.748, train_loss: 56.324635004593155, train_acc: 0.9585166666666667, test_loss: 193.7015525817871, test_acc: 0.8943\n",
      "ep: 28,taked: 6.777, train_loss: 53.233354212874076, train_acc: 0.9601833333333334, test_loss: 183.84657974243163, test_acc: 0.896\n",
      "ep: 29,taked: 6.720, train_loss: 52.94750561956632, train_acc: 0.9601166666666666, test_loss: 207.8076301574707, test_acc: 0.8877\n"
     ]
    }
   ],
   "source": [
    "num_epochs=30\n",
    "trainer = torch.optim.Adam(model3.parameters(), lr=0.001)\n",
    "history3=train_model(model3,num_epochs, train, test, trainer, dev)"
   ]
  },
  {
   "cell_type": "code",
   "execution_count": 25,
   "metadata": {},
   "outputs": [
    {
     "name": "stdout",
     "output_type": "stream",
     "text": [
      "ep: 0,taked: 6.828, train_loss: 38.91216147148003, train_acc: 0.97165, test_loss: 181.4316379547119, test_acc: 0.9063\n",
      "ep: 1,taked: 6.761, train_loss: 30.71102760605893, train_acc: 0.9776666666666667, test_loss: 189.24124641418456, test_acc: 0.907\n",
      "ep: 2,taked: 6.740, train_loss: 26.938414024094403, train_acc: 0.98075, test_loss: 194.99345703125, test_acc: 0.9083\n",
      "ep: 3,taked: 6.705, train_loss: 24.811189425193657, train_acc: 0.9820333333333333, test_loss: 198.12643966674804, test_acc: 0.9078\n",
      "ep: 4,taked: 6.768, train_loss: 22.467975879119614, train_acc: 0.98395, test_loss: 207.77224044799806, test_acc: 0.909\n",
      "ep: 5,taked: 6.707, train_loss: 20.77860046241243, train_acc: 0.9850166666666667, test_loss: 211.44349212646483, test_acc: 0.9066\n",
      "ep: 6,taked: 6.786, train_loss: 20.487034328913285, train_acc: 0.9849, test_loss: 216.5099021911621, test_acc: 0.9087\n",
      "ep: 7,taked: 6.782, train_loss: 18.795891256655676, train_acc: 0.9863666666666666, test_loss: 218.7876895904541, test_acc: 0.9085\n",
      "ep: 8,taked: 6.742, train_loss: 17.177035020569623, train_acc: 0.9871666666666666, test_loss: 227.77981414794922, test_acc: 0.9066\n",
      "ep: 9,taked: 6.707, train_loss: 16.624341297957855, train_acc: 0.9873166666666666, test_loss: 231.9767765045166, test_acc: 0.9074\n",
      "ep: 10,taked: 6.748, train_loss: 15.857922545934128, train_acc: 0.9882666666666666, test_loss: 237.40032348632812, test_acc: 0.9062\n",
      "ep: 11,taked: 6.777, train_loss: 15.216594324273577, train_acc: 0.9892833333333333, test_loss: 244.0759391784668, test_acc: 0.9078\n",
      "ep: 12,taked: 6.722, train_loss: 14.4202207347094, train_acc: 0.9895333333333334, test_loss: 244.77117767333985, test_acc: 0.9073\n",
      "ep: 13,taked: 6.760, train_loss: 13.880990654735243, train_acc: 0.98955, test_loss: 248.1700469970703, test_acc: 0.9064\n",
      "ep: 14,taked: 6.632, train_loss: 13.314019587080358, train_acc: 0.9900833333333333, test_loss: 254.94280586242675, test_acc: 0.9079\n",
      "ep: 15,taked: 6.779, train_loss: 13.501599934141515, train_acc: 0.9901166666666666, test_loss: 258.09692459106446, test_acc: 0.9068\n",
      "ep: 16,taked: 6.771, train_loss: 12.626125230627546, train_acc: 0.99075, test_loss: 255.09295654296875, test_acc: 0.9077\n",
      "ep: 17,taked: 6.738, train_loss: 11.769911228600195, train_acc: 0.9909166666666667, test_loss: 256.249951171875, test_acc: 0.9085\n",
      "ep: 18,taked: 6.704, train_loss: 11.208901368965536, train_acc: 0.9918666666666667, test_loss: 261.21929931640625, test_acc: 0.9071\n",
      "ep: 19,taked: 6.717, train_loss: 10.320356061903096, train_acc: 0.9925833333333334, test_loss: 269.04774475097656, test_acc: 0.9066\n",
      "ep: 20,taked: 6.670, train_loss: 10.175816907721051, train_acc: 0.99245, test_loss: 268.60047607421876, test_acc: 0.9065\n",
      "ep: 21,taked: 6.835, train_loss: 10.010836908372783, train_acc: 0.99255, test_loss: 271.33584213256836, test_acc: 0.908\n",
      "ep: 22,taked: 6.811, train_loss: 9.420664205389508, train_acc: 0.993, test_loss: 272.39479064941406, test_acc: 0.9062\n",
      "ep: 23,taked: 6.648, train_loss: 9.063162900633731, train_acc: 0.99325, test_loss: 274.74174270629885, test_acc: 0.9088\n",
      "ep: 24,taked: 6.680, train_loss: 9.19014938402984, train_acc: 0.9931333333333333, test_loss: 275.2537494659424, test_acc: 0.9065\n",
      "ep: 25,taked: 6.773, train_loss: 8.79547519603018, train_acc: 0.9934333333333333, test_loss: 279.3755241394043, test_acc: 0.9087\n",
      "ep: 26,taked: 6.744, train_loss: 8.482813705832271, train_acc: 0.99375, test_loss: 281.29113616943357, test_acc: 0.9087\n",
      "ep: 27,taked: 6.664, train_loss: 7.5933210768942105, train_acc: 0.9946, test_loss: 287.9569091796875, test_acc: 0.9072\n",
      "ep: 28,taked: 6.689, train_loss: 7.857724383725959, train_acc: 0.99425, test_loss: 292.8765075683594, test_acc: 0.9091\n",
      "ep: 29,taked: 6.772, train_loss: 7.502268653804973, train_acc: 0.99445, test_loss: 286.0715950012207, test_acc: 0.9094\n"
     ]
    }
   ],
   "source": [
    "\n",
    "num_epochs=30\n",
    "trainer = torch.optim.Adam(model3.parameters(), lr=0.0001)\n",
    "history3=train_model(model3,num_epochs, train, test, trainer, dev)"
   ]
  },
  {
   "cell_type": "markdown",
   "metadata": {},
   "source": [
    "* Адам чуть-чуть лучшую току нащупал 0.909, пробуем еще умень "
   ]
  },
  {
   "cell_type": "code",
   "execution_count": null,
   "metadata": {},
   "outputs": [],
   "source": []
  },
  {
   "cell_type": "code",
   "execution_count": null,
   "metadata": {},
   "outputs": [],
   "source": []
  }
 ],
 "metadata": {
  "kernelspec": {
   "display_name": "Python 3",
   "language": "python",
   "name": "python3"
  },
  "language_info": {
   "codemirror_mode": {
    "name": "ipython",
    "version": 3
   },
   "file_extension": ".py",
   "mimetype": "text/x-python",
   "name": "python",
   "nbconvert_exporter": "python",
   "pygments_lexer": "ipython3",
   "version": "3.6.9"
  }
 },
 "nbformat": 4,
 "nbformat_minor": 2
}
